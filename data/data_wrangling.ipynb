{
 "cells": [
  {
   "cell_type": "code",
   "execution_count": 1,
   "id": "3cc1cadd",
   "metadata": {},
   "outputs": [],
   "source": [
    "import pandas as pd"
   ]
  },
  {
   "cell_type": "code",
   "execution_count": 2,
   "id": "3d59b465",
   "metadata": {},
   "outputs": [],
   "source": [
    "epc_data = pd.read_csv(\"/Users/meghna_mac2/PycharmProjects/WMCA/wmca_app/data/numerical_individual_columns_data.csv\")"
   ]
  },
  {
   "cell_type": "code",
   "execution_count": 3,
   "id": "c902b419",
   "metadata": {},
   "outputs": [],
   "source": [
    "lat = epc_data['LATITUDE'].isnull().values.any()\n",
    "long = epc_data['LONGITUDE'].isnull().values.any()\n",
    "eng = epc_data['current-energy-rating'].isnull().values.any()"
   ]
  },
  {
   "cell_type": "code",
   "execution_count": 4,
   "id": "0cbcb481",
   "metadata": {},
   "outputs": [
    {
     "data": {
      "text/plain": [
       "False"
      ]
     },
     "execution_count": 4,
     "metadata": {},
     "output_type": "execute_result"
    }
   ],
   "source": [
    "lat"
   ]
  },
  {
   "cell_type": "code",
   "execution_count": 5,
   "id": "3705417d",
   "metadata": {},
   "outputs": [
    {
     "data": {
      "text/plain": [
       "False"
      ]
     },
     "execution_count": 5,
     "metadata": {},
     "output_type": "execute_result"
    }
   ],
   "source": [
    "long"
   ]
  },
  {
   "cell_type": "code",
   "execution_count": 6,
   "id": "be174f99",
   "metadata": {},
   "outputs": [
    {
     "data": {
      "text/plain": [
       "False"
      ]
     },
     "execution_count": 6,
     "metadata": {},
     "output_type": "execute_result"
    }
   ],
   "source": [
    "eng"
   ]
  },
  {
   "cell_type": "code",
   "execution_count": 7,
   "id": "7c336798",
   "metadata": {},
   "outputs": [
    {
     "data": {
      "text/plain": [
       "0         0\n",
       "1         0\n",
       "2         0\n",
       "3         0\n",
       "4         0\n",
       "         ..\n",
       "738108    0\n",
       "738109    0\n",
       "738110    0\n",
       "738111    0\n",
       "738112    0\n",
       "Name: local-authority_E07000196, Length: 738113, dtype: int64"
      ]
     },
     "execution_count": 7,
     "metadata": {},
     "output_type": "execute_result"
    }
   ],
   "source": [
    "epc_data['local-authority_E07000196']"
   ]
  },
  {
   "cell_type": "code",
   "execution_count": 11,
   "id": "33237c2d",
   "metadata": {},
   "outputs": [],
   "source": [
    "df_out = epc_data.head(100)"
   ]
  },
  {
   "cell_type": "code",
   "execution_count": 12,
   "id": "190fba00",
   "metadata": {},
   "outputs": [],
   "source": [
    "df_out.to_csv('/Users/meghna_mac2/PycharmProjects/WMCA/wmca_app/data/numerical_individual_columns_data_demo.csv')"
   ]
  },
  {
   "cell_type": "code",
   "execution_count": 13,
   "id": "d90c6f4a",
   "metadata": {},
   "outputs": [],
   "source": [
    "output_data = pd.read_csv(\"/Users/meghna_mac2/PycharmProjects/WMCA/wmca_app/data2/sample_outputs.csv\")"
   ]
  },
  {
   "cell_type": "code",
   "execution_count": 15,
   "id": "caa8933b",
   "metadata": {},
   "outputs": [],
   "source": [
    "df2_out = output_data.head(100)"
   ]
  },
  {
   "cell_type": "code",
   "execution_count": 16,
   "id": "a0cdb3e0",
   "metadata": {},
   "outputs": [],
   "source": [
    "df2_out.to_csv('/Users/meghna_mac2/PycharmProjects/WMCA/wmca_app/data/sample_outputs_demo.csv')"
   ]
  },
  {
   "cell_type": "code",
   "execution_count": null,
   "id": "cf569f14",
   "metadata": {},
   "outputs": [],
   "source": []
  }
 ],
 "metadata": {
  "kernelspec": {
   "display_name": "Python 3 (ipykernel)",
   "language": "python",
   "name": "python3"
  },
  "language_info": {
   "codemirror_mode": {
    "name": "ipython",
    "version": 3
   },
   "file_extension": ".py",
   "mimetype": "text/x-python",
   "name": "python",
   "nbconvert_exporter": "python",
   "pygments_lexer": "ipython3",
   "version": "3.9.12"
  }
 },
 "nbformat": 4,
 "nbformat_minor": 5
}
