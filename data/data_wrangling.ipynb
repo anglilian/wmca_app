{
 "cells": [
  {
   "cell_type": "markdown",
   "id": "6063f71c",
   "metadata": {},
   "source": [
    "Latest"
   ]
  },
  {
   "cell_type": "code",
   "execution_count": 8,
   "id": "8154da68",
   "metadata": {},
   "outputs": [],
   "source": [
    "import pandas as pd\n",
    "import geopandas as gpd\n",
    "\n",
    "elec_df = gpd.read_file(\"C:/Users/lilia/Documents/GitHub/WMCA/DSSG_WMCA/data/output/SJ9000_outputs.geojson\", driver=\"GeoJSON\")\n",
    "pv_df = gpd.read_file(\"building_pv.geojson\", driver='GeoJSON')\n",
    "results = pd.read_csv(\"full_dataset_outputs.csv\")\n",
    "\n",
    "full_df = pv_df.merge(results[['uprn','current-energy-efficiency', 'current-energy-rating']], on='uprn', how='left')\n",
    "full_df = full_df.merge(elec_df[['additional_peak_load', 'predicted','uprn']], on='uprn')\n",
    "full_df = full_df.fillna(\"\") # prevents errors in pydeck"
   ]
  },
  {
   "cell_type": "code",
   "execution_count": 9,
   "id": "52df8b27",
   "metadata": {},
   "outputs": [
    {
     "data": {
      "text/plain": [
       "Index(['uprn', 'postcode', 'buildingNumber', 'thoroughfare', 'parentUPRN',\n",
       "       'calculatedAreaValue', 'AbsHMax', 'shading_mean', 'lng', 'lat',\n",
       "       'pv_output', 'geometry', 'current-energy-efficiency',\n",
       "       'current-energy-rating', 'additional_peak_load', 'predicted'],\n",
       "      dtype='object')"
      ]
     },
     "execution_count": 9,
     "metadata": {},
     "output_type": "execute_result"
    }
   ],
   "source": [
    "full_df.columns"
   ]
  },
  {
   "cell_type": "code",
   "execution_count": 10,
   "id": "5256b839",
   "metadata": {},
   "outputs": [
    {
     "name": "stderr",
     "output_type": "stream",
     "text": [
      "C:\\Users\\lilia\\AppData\\Local\\Programs\\Python\\Python39\\lib\\site-packages\\geopandas\\io\\file.py:362: FutureWarning: pandas.Int64Index is deprecated and will be removed from pandas in a future version. Use pandas.Index with the appropriate dtype instead.\n",
      "  pd.Int64Index,\n"
     ]
    }
   ],
   "source": [
    "full_df.to_file('data.geojson', driver='GeoJSON')"
   ]
  },
  {
   "cell_type": "markdown",
   "id": "368b81ae",
   "metadata": {},
   "source": [
    "Meghna's"
   ]
  },
  {
   "cell_type": "code",
   "execution_count": 1,
   "id": "3cc1cadd",
   "metadata": {},
   "outputs": [],
   "source": [
    "import pandas as pd"
   ]
  },
  {
   "cell_type": "code",
   "execution_count": 2,
   "id": "3d59b465",
   "metadata": {},
   "outputs": [],
   "source": [
    "epc_data = pd.read_csv(\"/Users/meghna_mac2/PycharmProjects/WMCA/wmca_app/data/numerical_individual_columns_data.csv\")"
   ]
  },
  {
   "cell_type": "code",
   "execution_count": 3,
   "id": "c902b419",
   "metadata": {},
   "outputs": [],
   "source": [
    "lat = epc_data['LATITUDE'].isnull().values.any()\n",
    "long = epc_data['LONGITUDE'].isnull().values.any()\n",
    "eng = epc_data['current-energy-rating'].isnull().values.any()"
   ]
  },
  {
   "cell_type": "code",
   "execution_count": 4,
   "id": "0cbcb481",
   "metadata": {},
   "outputs": [
    {
     "data": {
      "text/plain": [
       "False"
      ]
     },
     "execution_count": 4,
     "metadata": {},
     "output_type": "execute_result"
    }
   ],
   "source": [
    "lat"
   ]
  },
  {
   "cell_type": "code",
   "execution_count": 5,
   "id": "3705417d",
   "metadata": {},
   "outputs": [
    {
     "data": {
      "text/plain": [
       "False"
      ]
     },
     "execution_count": 5,
     "metadata": {},
     "output_type": "execute_result"
    }
   ],
   "source": [
    "long"
   ]
  },
  {
   "cell_type": "code",
   "execution_count": 6,
   "id": "be174f99",
   "metadata": {},
   "outputs": [
    {
     "data": {
      "text/plain": [
       "False"
      ]
     },
     "execution_count": 6,
     "metadata": {},
     "output_type": "execute_result"
    }
   ],
   "source": [
    "eng"
   ]
  },
  {
   "cell_type": "code",
   "execution_count": 7,
   "id": "7c336798",
   "metadata": {},
   "outputs": [
    {
     "data": {
      "text/plain": [
       "0         0\n",
       "1         0\n",
       "2         0\n",
       "3         0\n",
       "4         0\n",
       "         ..\n",
       "738108    0\n",
       "738109    0\n",
       "738110    0\n",
       "738111    0\n",
       "738112    0\n",
       "Name: local-authority_E07000196, Length: 738113, dtype: int64"
      ]
     },
     "execution_count": 7,
     "metadata": {},
     "output_type": "execute_result"
    }
   ],
   "source": [
    "epc_data['local-authority_E07000196']"
   ]
  },
  {
   "cell_type": "code",
   "execution_count": 11,
   "id": "33237c2d",
   "metadata": {},
   "outputs": [],
   "source": [
    "df_out = epc_data.head(100)"
   ]
  },
  {
   "cell_type": "code",
   "execution_count": 12,
   "id": "190fba00",
   "metadata": {},
   "outputs": [],
   "source": [
    "df_out.to_csv('/Users/meghna_mac2/PycharmProjects/WMCA/wmca_app/data/numerical_individual_columns_data_demo.csv')"
   ]
  },
  {
   "cell_type": "code",
   "execution_count": 13,
   "id": "d90c6f4a",
   "metadata": {},
   "outputs": [],
   "source": [
    "output_data = pd.read_csv(\"/Users/meghna_mac2/PycharmProjects/WMCA/wmca_app/data2/sample_outputs.csv\")"
   ]
  },
  {
   "cell_type": "code",
   "execution_count": 15,
   "id": "caa8933b",
   "metadata": {},
   "outputs": [],
   "source": [
    "df2_out = output_data.head(100)"
   ]
  },
  {
   "cell_type": "code",
   "execution_count": 16,
   "id": "a0cdb3e0",
   "metadata": {},
   "outputs": [],
   "source": [
    "df2_out.to_csv('/Users/meghna_mac2/PycharmProjects/WMCA/wmca_app/data/sample_outputs_demo.csv')"
   ]
  },
  {
   "cell_type": "code",
   "execution_count": null,
   "id": "cf569f14",
   "metadata": {},
   "outputs": [],
   "source": []
  }
 ],
 "metadata": {
  "kernelspec": {
   "display_name": "Python 3.9.4 64-bit",
   "language": "python",
   "name": "python3"
  },
  "language_info": {
   "codemirror_mode": {
    "name": "ipython",
    "version": 3
   },
   "file_extension": ".py",
   "mimetype": "text/x-python",
   "name": "python",
   "nbconvert_exporter": "python",
   "pygments_lexer": "ipython3",
   "version": "3.9.4"
  },
  "vscode": {
   "interpreter": {
    "hash": "25a19fbe0a9132dfb9279d48d161753c6352f8f9478c2e74383d340069b907c3"
   }
  }
 },
 "nbformat": 4,
 "nbformat_minor": 5
}
